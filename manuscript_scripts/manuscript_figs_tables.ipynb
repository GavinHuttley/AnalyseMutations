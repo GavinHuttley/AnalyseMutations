{
 "cells": [
  {
   "cell_type": "code",
   "execution_count": 1,
   "metadata": {
    "collapsed": true
   },
   "outputs": [],
   "source": [
    "import os, shutil\n",
    "from cogent import LoadTable"
   ]
  },
  {
   "cell_type": "code",
   "execution_count": 2,
   "metadata": {
    "collapsed": false
   },
   "outputs": [],
   "source": [
    "def format_direction(from_to):\n",
    "    return r\"%s$\\rightarrow$%s\" % tuple(from_to.split(\"to\"))\n",
    "\n",
    "def format_positions(positions):\n",
    "    positions = positions.split(\":\")\n",
    "    old_new = {\"0\": \"-2\", \"1\": \"-1\", \"2\": \"+1\", \"3\": \"+2\"}\n",
    "    redone = [old_new[p[-1]] for p in positions]\n",
    "    if len(redone) == 1:\n",
    "        template = \"%s\"\n",
    "    else:\n",
    "        template = \"(%s)\"\n",
    "    \n",
    "    return template % \", \".join(redone)\n",
    "\n",
    "def latex_format_numbers(value):\n",
    "    try:\n",
    "        value = float(value)\n",
    "    except ValueError:\n",
    "        return value\n",
    "    \n",
    "    if value == 0:\n",
    "        return \"0\"\n",
    "    v = \"%.1e\" % value\n",
    "    v = v.split(\"e\")\n",
    "    v[1] = str(int(v[1]))\n",
    "    v = r\"$%s\\times 10^{%s}$\" % tuple(v)\n",
    "    return v\n",
    "\n",
    "def format_pvalue(value):\n",
    "    \"\"\"0.0 if 0, float if <= 0.0001, scientific otherwise\"\"\"\n",
    "    epsilon = 1e-6\n",
    "    if value <= 1e-100:\n",
    "        result = \"0.0\"\n",
    "    elif 1-epsilon <= value <= 1.0+epsilon:\n",
    "        result = \"1.0\"\n",
    "    elif 1e-4 <= value:\n",
    "        result = \"%.4f\" % value\n",
    "    elif 0 < value < 1e-4:\n",
    "        result = latex_format_numbers(value)\n",
    "    else:\n",
    "        raise ValueError(value)\n",
    "    return result\n",
    "\n",
    "table_template = \"\\\\begin{table}[htp]\\n\\\\centering\\n%s\\n\\end{table}\\n\"\n",
    "\n",
    "def format_latex_table(table, justify, label=None):\n",
    "    caption = table.Title or \"\"\n",
    "    label = label or \"\"\n",
    "    table.Title = \"\"\n",
    "    result = table_template % table.tostring(format=\"latex\", justify=justify)\n",
    "    result = result.replace(\"longtable\", \"tabular\").replace(\"[htp!]\", \"\")\n",
    "    \n",
    "    if caption:\n",
    "        caption = r\"\\caption{%s}\" % caption\n",
    "    \n",
    "    if label:\n",
    "        caption += r\"\\label{%s}\" % label\n",
    "    \n",
    "    if caption:\n",
    "        result = result.splitlines()\n",
    "        result.insert(-1, caption)\n",
    "        result = \"\\n\".join(result)\n",
    "    \n",
    "    return result"
   ]
  },
  {
   "cell_type": "code",
   "execution_count": 3,
   "metadata": {
    "collapsed": true
   },
   "outputs": [],
   "source": [
    "RANK = 0\n",
    "def SequentialSidak(N, alpha=0.05):\n",
    "    # see https://www.utdallas.edu/~herve/abdi-Holm2010-pretty.pdf\n",
    "    global RANK\n",
    "    RANK = 0\n",
    "    def call(val):\n",
    "        global RANK\n",
    "        corr = N - RANK\n",
    "        adjusted_p = 1 - (1 - val)**corr\n",
    "        RANK += 1\n",
    "        return adjusted_p <= alpha\n",
    "    return call\n",
    "\n",
    "COLUMNS = [\"Position\", \"RE\", \"Deviance\", \"df\", \"prob\"]\n",
    "def make_summary_table(fns, filter_func=None, show_significant=False):\n",
    "    \"\"\"filter_func takes a table and returns the table filtered for rows\"\"\"\n",
    "    records = []\n",
    "    for fn in fns:\n",
    "        direction = fn.split(\"/\")[-2]\n",
    "        row = [format_direction(direction)]\n",
    "        table = LoadTable(fn, sep=\"\\t\")\n",
    "        table = table.getColumns(COLUMNS)\n",
    "        table = table.withNewColumn(\"motif_length\", lambda x: x.count(\":\") + 1, columns=\"Position\")\n",
    "        if filter_func is not None:\n",
    "            table = filter_func(table)\n",
    "        \n",
    "        table = table.sorted(\"prob\")\n",
    "        is_sig = SequentialSidak(table.Shape[0])\n",
    "\n",
    "        table = table.filtered(is_sig, columns=\"prob\")\n",
    "        if show_significant and table.Shape[0] > 0:\n",
    "            print direction\n",
    "            print table\n",
    "            print\n",
    "        \n",
    "        for length in range(1, 5):\n",
    "            subtable = table.filtered(lambda x: x == length, columns=\"motif_length\")\n",
    "            if subtable.Shape[0] == 0:\n",
    "                row.extend([\"-\", \"-\"])\n",
    "                continue\n",
    "\n",
    "            pos, re = subtable.sorted(\"RE\").getRawData([\"Position\", \"RE\"])[-1]\n",
    "            pos = format_positions(pos)\n",
    "            re = format_pvalue(re)\n",
    "            row.append(re)\n",
    "            row.append(\"%s\" % pos)\n",
    "        if set(row[1:]) == set([\"-\"]): # no effects\n",
    "            continue\n",
    "        records.append(row)\n",
    "    \n",
    "    if not records:\n",
    "        return None\n",
    "    header = [\"Direction\", r\"RE$_{max}(1)$\", \"Pos.$(1)$\", r\"RE$_{max}(2)$\", \"Pos.$(2)$\",\n",
    "              r\"RE$_{max}(3)$\", \"Pos.$(3)$\", r\"RE$_{max}(4)$\", \"Pos.$(4)$\"]\n",
    "    summary = LoadTable(header=header, rows=records)\n",
    "    # check we got values for each column\n",
    "    columns = []\n",
    "    for c in summary.Header:\n",
    "        values = summary.getDistinctValues(c)\n",
    "        if values != set(\"-\"):\n",
    "            columns.append(c)\n",
    "    \n",
    "    return summary.getColumns(columns)"
   ]
  },
  {
   "cell_type": "markdown",
   "metadata": {},
   "source": [
    "# Manuscript figures and tables"
   ]
  },
  {
   "cell_type": "markdown",
   "metadata": {},
   "source": [
    "## Figures"
   ]
  },
  {
   "cell_type": "code",
   "execution_count": 4,
   "metadata": {
    "collapsed": false
   },
   "outputs": [],
   "source": [
    "!mkdir -p ../figures"
   ]
  },
  {
   "cell_type": "code",
   "execution_count": 5,
   "metadata": {
    "collapsed": false
   },
   "outputs": [
    {
     "name": "stdout",
     "output_type": "stream",
     "text": [
      "1.json       2.pdf        4.json       MI.pdf       summary.txt\r\n",
      "1.pdf        3.json       4.pdf        analysis.log\r\n",
      "2.json       3.pdf        MI.log       summary.pdf\r\n"
     ]
    }
   ],
   "source": [
    "!ls ../results/ensembl_snps_79/A/intergenic/directions/CtoT"
   ]
  },
  {
   "cell_type": "markdown",
   "metadata": {},
   "source": [
    "### C->T figure\n",
    "\n",
    "Copy the 1,2,3,4 plots and the summary and place them into ../figures/"
   ]
  },
  {
   "cell_type": "code",
   "execution_count": 6,
   "metadata": {
    "collapsed": false
   },
   "outputs": [],
   "source": [
    "fns = !ls ../results/ensembl_snps_79/A/intergenic/directions/CtoT/*.pdf"
   ]
  },
  {
   "cell_type": "code",
   "execution_count": 7,
   "metadata": {
    "collapsed": false
   },
   "outputs": [],
   "source": [
    "for fn in fns:\n",
    "    bn = os.path.basename(fn)\n",
    "    bn = \"A_intergenic_freq_All-chrom_A-GC_All-CtoT_%s\" % bn\n",
    "    ofn = os.path.join(\"../figures/\", bn)\n",
    "    shutil.copy(fn, ofn)"
   ]
  },
  {
   "cell_type": "markdown",
   "metadata": {},
   "source": [
    "### A->G figure"
   ]
  },
  {
   "cell_type": "code",
   "execution_count": 8,
   "metadata": {
    "collapsed": true
   },
   "outputs": [],
   "source": [
    "fns = !ls ../results/ensembl_snps_79/A/intergenic/directions/AtoG/*.pdf\n",
    "for fn in fns:\n",
    "    bn = os.path.basename(fn)\n",
    "    bn = \"A_intergenic_freq_All-chrom_A-GC_All-AtoG_%s\" % bn\n",
    "    ofn = os.path.join(\"../figures/\", bn)\n",
    "    shutil.copy(fn, ofn)"
   ]
  },
  {
   "cell_type": "markdown",
   "metadata": {},
   "source": [
    "### Melanoma grid figure"
   ]
  },
  {
   "cell_type": "code",
   "execution_count": 9,
   "metadata": {
    "collapsed": false
   },
   "outputs": [],
   "source": [
    "fn = \"../results/ensembl_snps_79/malignant_melanoma/directions/nbr_grid.pdf\"\n",
    "ofn = os.path.join(\"../figures/\", \"malignant_melanoma_grid.pdf\")\n",
    "shutil.copy(fn, ofn)"
   ]
  },
  {
   "cell_type": "markdown",
   "metadata": {},
   "source": [
    "### Spectra grid for intergenic Autosomal vs X-chromosomal"
   ]
  },
  {
   "cell_type": "code",
   "execution_count": 10,
   "metadata": {
    "collapsed": true
   },
   "outputs": [],
   "source": [
    "fns = !ls ../results/ensembl_snps_79/A_vs_X/intergenic/spectra_grid.pdf\n",
    "assert len(fns) == 1, fns\n",
    "fn = fns[0]\n",
    "bn = os.path.basename(fn)\n",
    "ofn = os.path.join(\"../figures/\", \"spectra_grid_A_vs_X.pdf\")\n",
    "shutil.copy(fn, ofn)"
   ]
  },
  {
   "cell_type": "markdown",
   "metadata": {},
   "source": [
    "### Spectra grid got malignant melanoma strand"
   ]
  },
  {
   "cell_type": "code",
   "execution_count": 11,
   "metadata": {
    "collapsed": true
   },
   "outputs": [],
   "source": [
    "fns = !ls ../results/ensembl_snps_79/malignant_melanoma/combined_strand_symmetric/spectra_grid.pdf\n",
    "\n",
    "assert len(fns) == 1, fns\n",
    "fn = fns[0]\n",
    "bn = os.path.basename(fn)\n",
    "ofn = os.path.join(\"../figures/\", \"spectra_grid_melanoma_strand_symmetry.pdf\")\n",
    "shutil.copy(fn, ofn)"
   ]
  },
  {
   "cell_type": "markdown",
   "metadata": {},
   "source": [
    "## Tables"
   ]
  },
  {
   "cell_type": "code",
   "execution_count": 12,
   "metadata": {
    "collapsed": true
   },
   "outputs": [],
   "source": [
    "all_ms_tables = []"
   ]
  },
  {
   "cell_type": "markdown",
   "metadata": {},
   "source": [
    "### Make C->T table"
   ]
  },
  {
   "cell_type": "code",
   "execution_count": 13,
   "metadata": {
    "collapsed": false
   },
   "outputs": [],
   "source": [
    "fns = !ls ../results/ensembl_snps_79/A/intergenic/directions/CtoT/*.txt\n",
    "table = LoadTable(fns[0], sep=\"\\t\")\n",
    "table = table.sorted(columns=[\"df\", \"Position\"])\n",
    "table = table.withNewColumn(\"Position(s)\", format_positions, columns=[\"Position\"])\n",
    "table = table.getColumns([\"Position(s)\", \"Deviance\", \"df\", \"prob\"])\n",
    "table = table.withNewHeader(\"prob\", \"p-value\")\n",
    "table.setColumnFormat(\"p-value\", format_pvalue)\n",
    "table.setColumnFormat(\"Deviance\", \"%.1f\")\n",
    "table.Title = r\"Log-linear analysis of C$\\rightarrow$T autosomal intergenic mutations. \"\\\n",
    "+r\"Position(s) are relative to the index position (see Figure \\ref{fig:nbr_indexing}). \"\\\n",
    "+r\"Deviance is from the log-linear model, with df degrees-of-freedom and corresponding \"\\\n",
    "+r\"p-value obtained from the $\\chi^2$ distribution. p-values listed as 0.0 are below \"\\\n",
    "+r\"the limit of detection.\"\n",
    "all_ms_tables.append(format_latex_table(table, justify=\"rrrl\", label=\"table:c-t\"))"
   ]
  },
  {
   "cell_type": "markdown",
   "metadata": {},
   "source": [
    "### Intergenic autosomal mutation summary table"
   ]
  },
  {
   "cell_type": "code",
   "execution_count": 14,
   "metadata": {
    "collapsed": false
   },
   "outputs": [],
   "source": [
    "from mutation_motif.complement import MUTATION_COMPLEMENTS\n",
    "\n",
    "fns = !ls ../results/ensembl_snps_79/A/intergenic/directions/*/*.txt\n",
    "fns = [fn for fn in fns if fn.split(\"/\")[-2] in MUTATION_COMPLEMENTS]\n",
    "\n",
    "summary = make_summary_table(fns)\n",
    "summary = summary.getColumns([c for c in summary.Header if \"4\" not in c])\n",
    "summary.Title = \"Summary of neighbourhood contributions to plus strand mutations \"\\\n",
    "+r\"with an autosomal intergenic location. RE$_{max}(\\#)$ is the maximum RE for order \"\\\n",
    "+r\"\\# and Pos.$(\\#)$ the corresponding position(s). All point mutations had at least \"\\\n",
    "+r\"one significant test after correcting for 15 tests (see Table \\ref{table:c-t}) using the \"\\\n",
    "+r\"Holm-{\\v S}id{\\\"a}k procedure.\"\n",
    "all_ms_tables.append(format_latex_table(summary, justify=\"crrrrrr\", label=\"table:intergenic:summary\"))"
   ]
  },
  {
   "cell_type": "markdown",
   "metadata": {},
   "source": [
    "### Make A->G table"
   ]
  },
  {
   "cell_type": "code",
   "execution_count": 15,
   "metadata": {
    "collapsed": false
   },
   "outputs": [],
   "source": [
    "fns = !ls ../results/ensembl_snps_79/A/intergenic/directions/AtoG/*.txt\n",
    "table = LoadTable(fns[0], sep=\"\\t\")\n",
    "table = table.sorted(columns=[\"df\", \"Position\"])\n",
    "table = table.withNewColumn(\"Position(s)\", format_positions, columns=[\"Position\"])\n",
    "table = table.getColumns([\"Position(s)\", \"Deviance\", \"df\", \"prob\"])\n",
    "table = table.withNewHeader(\"prob\", \"p-value\")\n",
    "table.setColumnFormat(\"p-value\", format_pvalue)\n",
    "table.setColumnFormat(\"Deviance\", \"%.1f\")\n",
    "table.Title = r\"Log-linear analysis of A$\\rightarrow$G autosomal intergenic mutations. \"\\\n",
    "+r\"Position(s) are relative to the index position (see Figure \\ref{fig:nbr_indexing}). \"\\\n",
    "+r\"Deviance is from the log-linear model, with df degrees-of-freedom and corresponding \"\\\n",
    "+r\"p-value obtained from the $\\chi^2$ distribution. p-values listed as 0.0 are below \"\\\n",
    "+r\"the limit of detection.\"\n",
    "all_ms_tables.append(format_latex_table(table, justify=\"rrrl\", label=\"table:a-g\"))"
   ]
  },
  {
   "cell_type": "markdown",
   "metadata": {},
   "source": [
    "### Melanoma mutation summary"
   ]
  },
  {
   "cell_type": "code",
   "execution_count": 16,
   "metadata": {
    "collapsed": false
   },
   "outputs": [],
   "source": [
    "fns = !ls ../results/ensembl_snps_79/malignant_melanoma/directions/*/*.txt\n",
    "\n",
    "summary = make_summary_table(fns)\n",
    "summary = summary.getColumns([c for c in summary.Header if \"4\" not in c])\n",
    "summary.Title = \"Summary of neighbourhood contributions to mutations in malignant melanoma. \"\\\n",
    "+r\"RE$_{max}(\\#)$ is the maximum RE for order \\# and Pos.$(\\#)$ the corresponding position(s). \"\\\n",
    "+r\"All point mutations had at least \"\\\n",
    "+r\"one significant test after correcting for 15 tests (see Table \\ref{table:c-t}) using the \"\\\n",
    "+r\"Holm-{\\v S}id{\\\"a}k procedure. Non-significant results are indicated by `-'.\"\n",
    "all_ms_tables.append(format_latex_table(summary, justify=\"crrrrrr\", label=\"table:melanoma:summary\"))"
   ]
  },
  {
   "cell_type": "code",
   "execution_count": 17,
   "metadata": {
    "collapsed": true
   },
   "outputs": [],
   "source": [
    "with open(\"../results/ensembl_snps_79/manuscript_tables.tex\", \"w\") as out:\n",
    "    out.write(\"\\n\\n\".join(all_ms_tables))"
   ]
  },
  {
   "cell_type": "markdown",
   "metadata": {},
   "source": [
    "# Supplementary material figures and tables"
   ]
  },
  {
   "cell_type": "markdown",
   "metadata": {},
   "source": [
    "## Figures"
   ]
  },
  {
   "cell_type": "markdown",
   "metadata": {},
   "source": [
    "### C->T and A->G figures from exon data"
   ]
  },
  {
   "cell_type": "code",
   "execution_count": 18,
   "metadata": {
    "collapsed": false
   },
   "outputs": [],
   "source": [
    "fns = !ls ../results/ensembl_snps_79/A/exon/directions/CtoT/*.pdf\n",
    "for fn in fns:\n",
    "    bn = os.path.basename(fn)\n",
    "    bn = \"A_exon_freq_All-chrom_A-GC_All-CtoT_%s\" % bn\n",
    "    ofn = os.path.join(\"../figures/\", bn)\n",
    "    shutil.copy(fn, ofn)\n",
    "\n",
    "fns = !ls ../results/ensembl_snps_79/A/exon/directions/AtoG/*.pdf\n",
    "for fn in fns:\n",
    "    bn = os.path.basename(fn)\n",
    "    bn = \"A_exon_freq_All-chrom_A-GC_All-AtoG_%s\" % bn\n",
    "    ofn = os.path.join(\"../figures/\", bn)\n",
    "    shutil.copy(fn, ofn)"
   ]
  },
  {
   "cell_type": "markdown",
   "metadata": {},
   "source": [
    "### Autosomal intergenic nbr grid"
   ]
  },
  {
   "cell_type": "code",
   "execution_count": 19,
   "metadata": {
    "collapsed": true
   },
   "outputs": [],
   "source": [
    "fn = \"../results/ensembl_snps_79/A/intergenic/directions/nbr_grid.pdf\"\n",
    "ofn = os.path.join(\"../figures/\", \"A_intergenic_nbr_grid.pdf\")\n",
    "shutil.copy(fn, ofn)"
   ]
  },
  {
   "cell_type": "markdown",
   "metadata": {},
   "source": [
    "### Long flanks for C->T and A->G"
   ]
  },
  {
   "cell_type": "code",
   "execution_count": 20,
   "metadata": {
    "collapsed": false
   },
   "outputs": [],
   "source": [
    "fns = !ls ../results/ensembl_snps_79/long_flanks/directions/*/1.pdf\n",
    "fns = [fn for fn in fns if 'CtoT' in fn or 'AtoG' in fn]\n",
    "for fn in fns:\n",
    "    direction = fn.split('/')[-2]\n",
    "    ofn = \"../figures/long_flank_A_intergenic_%s.pdf\" % direction\n",
    "    shutil.copy(fn, ofn)\n"
   ]
  },
  {
   "cell_type": "markdown",
   "metadata": {},
   "source": [
    "## Tables"
   ]
  },
  {
   "cell_type": "code",
   "execution_count": 21,
   "metadata": {
    "collapsed": true
   },
   "outputs": [],
   "source": [
    "all_supp_tables = []"
   ]
  },
  {
   "cell_type": "code",
   "execution_count": 22,
   "metadata": {
    "collapsed": false
   },
   "outputs": [],
   "source": [
    "def DistanceFromMutation(flank_size):\n",
    "    \"\"\"returns the number of bases to the mutated position\"\"\"\n",
    "    def call(position):\n",
    "        # expecting string like \"pos14\"\n",
    "        position = int(position[3:])\n",
    "        dist = position - flank_size\n",
    "        if dist >= 0:\n",
    "            # because the position indices don\"t consider\n",
    "            # the mutated position\n",
    "            dist += 1\n",
    "        return dist\n",
    "    return call\n",
    "\n",
    "def determine_limits(fns, fold=10.0):\n",
    "    \"\"\"for each file, identify the neighbourhood size\"\"\"\n",
    "    flank_size = None\n",
    "    dist_from_mutation = None\n",
    "    p_dist_from_mutation = None\n",
    "\n",
    "    rows = []\n",
    "    for fn in fns:\n",
    "        direction = format_direction(fn.split(\"/\")[-2])\n",
    "        table = LoadTable(fn, sep=\"\\t\")\n",
    "        is_sig = SequentialSidak(table.Shape[0])\n",
    "\n",
    "        flank_size = flank_size or table.Shape[0] / 2\n",
    "        dist_from_mutation = dist_from_mutation or DistanceFromMutation(flank_size)\n",
    "        REmax = max(table.getRawData(\"RE\"))\n",
    "        \n",
    "        re_table = table.withNewColumn(\"max_factor\", lambda x: x/REmax, columns=\"RE\")\n",
    "        re_table = re_table.filtered(lambda x: x >= 0.1, columns=\"max_factor\")\n",
    "        re_table = re_table.withNewColumn(\"re_dist\", dist_from_mutation, columns=\"Position\")\n",
    "        re_max_dist = max(map(abs, re_table.getRawData(\"re_dist\")))\n",
    "        \n",
    "        sig_table = table.filtered(is_sig, columns=\"prob\")\n",
    "        sig_table = sig_table.withNewColumn(\"p_dist\", dist_from_mutation, columns=\"Position\")\n",
    "        p_max_dist = max(map(abs, sig_table.getRawData(\"p_dist\")))\n",
    "\n",
    "\n",
    "        rows.append([direction, REmax, re_max_dist, p_max_dist])\n",
    "    new = LoadTable(header=[\"Direction\", r\"RE$_{max}(1)$\", \"RE Dist.\", \"p-val Dist.\"], rows=rows)\n",
    "    return new   "
   ]
  },
  {
   "cell_type": "markdown",
   "metadata": {},
   "source": [
    "### The extent of neighbourhoods affecting mutations\n",
    "\n",
    "#### Germline intergenic"
   ]
  },
  {
   "cell_type": "code",
   "execution_count": 23,
   "metadata": {
    "collapsed": false
   },
   "outputs": [],
   "source": [
    "fns = !ls ../results/ensembl_snps_79/long_flanks/directions/*/*.txt\n",
    "result = determine_limits(fns)\n",
    "result.Title = r\"The most distant positions from the mutation with RE$(1)\\ge10\\%$ of RE$_{max}(1)$. \"\\\n",
    "+r\"RE$(1)$ is the first order RE for the position, and RE$_{max}(1)$ the largest RE from a first order \"\\\n",
    "+r\"effect for the surveyed positions. RE Dist. is the absolute value of the relative position based \"\\\n",
    "+r\"on the RE value. p-val Dist. is the corresponding distance based on the p-value. The maximum possible \"\\\n",
    "+r\"distance is 10. Only point mutations significant after correcting for 20 tests using the \"\\\n",
    "+r\"Holm-{\\v S}id{\\\"a}k procedure were considered.\"\n",
    "\n",
    "all_supp_tables.append(format_latex_table(result.getColumns([\"Direction\", \"RE$_{max}(1)$\", \"RE Dist.\",\n",
    "                                                             \"p-val Dist.\"]),\n",
    "                                          justify=\"crrr\", label=\"suptable:nbr:intergenic-intron:nbrsize\"))"
   ]
  },
  {
   "cell_type": "markdown",
   "metadata": {
    "collapsed": false
   },
   "source": [
    "### Comparing neghbour effects between autosomal intergenic and intronic"
   ]
  },
  {
   "cell_type": "code",
   "execution_count": 24,
   "metadata": {
    "collapsed": false
   },
   "outputs": [],
   "source": [
    "fns = !ls ../results/ensembl_snps_79/A/intergenic_vs_intron/directions/*/summary.txt\n",
    "fns = [fn for fn in fns if fn.split(\"/\")[-2] in MUTATION_COMPLEMENTS]\n",
    "summary = make_summary_table(fns)\n",
    "\n",
    "summary.Title = \"Neighbourhood influences on point mutations differ between autosomal \"\\\n",
    "+r\"intronic and intergenic point mutations. As there was no significant strand asymmetry detected \"\\\n",
    "+r\"for either sequence class, only + strand effects are shown. \"\\\n",
    "+r\"Only point mutations with at least \"\\\n",
    "+r\"one significant test after correcting for 15 tests using the \"\\\n",
    "+r\"Holm-{\\v S}id{\\\"a}k procedure are shown. Non-significant results are indicated by `-'.\"\n",
    "summary = summary.getColumns([c for c in summary.Header if \"3\" not in c and \"4\" not in c])\n",
    "all_supp_tables.append(format_latex_table(summary, justify=\"cccrr\", label=\"suptable:nbr:intergenic-intron:summary\"))"
   ]
  },
  {
   "cell_type": "markdown",
   "metadata": {},
   "source": [
    "### Comparison of neighbour effects for intergenic Auto and X-chrom"
   ]
  },
  {
   "cell_type": "code",
   "execution_count": 25,
   "metadata": {
    "collapsed": true
   },
   "outputs": [],
   "source": [
    "def just_single_positions(table):\n",
    "    return table.filtered(lambda x: x == 1, columns=\"motif_length\")"
   ]
  },
  {
   "cell_type": "code",
   "execution_count": 26,
   "metadata": {
    "collapsed": false
   },
   "outputs": [
    {
     "name": "stdout",
     "output_type": "stream",
     "text": [
      "AtoC\n",
      "==============================================================\n",
      "Position        RE    Deviance    df      prob    motif_length\n",
      "--------------------------------------------------------------\n",
      "    pos2    0.0000     13.4929     3    0.0037               1\n",
      "--------------------------------------------------------------\n",
      "\n",
      "AtoG\n",
      "==============================================================\n",
      "Position        RE    Deviance    df      prob    motif_length\n",
      "--------------------------------------------------------------\n",
      "    pos2    0.0000     19.5229     3    0.0002               1\n",
      "    pos3    0.0000     13.4893     3    0.0037               1\n",
      "    pos1    0.0000      9.6424     3    0.0219               1\n",
      "--------------------------------------------------------------\n",
      "\n",
      "CtoG\n",
      "==============================================================\n",
      "Position        RE    Deviance    df      prob    motif_length\n",
      "--------------------------------------------------------------\n",
      "    pos2    0.0000     12.0749     3    0.0071               1\n",
      "--------------------------------------------------------------\n",
      "\n",
      "CtoT\n",
      "==============================================================\n",
      "Position        RE    Deviance    df      prob    motif_length\n",
      "--------------------------------------------------------------\n",
      "    pos2    0.0000     20.7482     3    0.0001               1\n",
      "    pos1    0.0000     20.4883     3    0.0001               1\n",
      "    pos3    0.0000      9.7836     3    0.0205               1\n",
      "--------------------------------------------------------------\n",
      "\n",
      "GtoA\n",
      "==============================================================\n",
      "Position        RE    Deviance    df      prob    motif_length\n",
      "--------------------------------------------------------------\n",
      "    pos2    0.0000     25.4344     3    0.0000               1\n",
      "    pos1    0.0000     18.3071     3    0.0004               1\n",
      "    pos0    0.0000     12.6900     3    0.0054               1\n",
      "    pos3    0.0000      9.1103     3    0.0279               1\n",
      "--------------------------------------------------------------\n",
      "\n",
      "TtoA\n",
      "==============================================================\n",
      "Position        RE    Deviance    df      prob    motif_length\n",
      "--------------------------------------------------------------\n",
      "    pos3    0.0000     12.4182     3    0.0061               1\n",
      "--------------------------------------------------------------\n",
      "\n",
      "TtoC\n",
      "==============================================================\n",
      "Position        RE    Deviance    df      prob    motif_length\n",
      "--------------------------------------------------------------\n",
      "    pos1    0.0000     26.0400     3    0.0000               1\n",
      "    pos0    0.0000     10.2885     3    0.0163               1\n",
      "--------------------------------------------------------------\n",
      "\n",
      "TtoG\n",
      "==============================================================\n",
      "Position        RE    Deviance    df      prob    motif_length\n",
      "--------------------------------------------------------------\n",
      "    pos1    0.0000     16.1246     3    0.0011               1\n",
      "--------------------------------------------------------------\n",
      "\n"
     ]
    }
   ],
   "source": [
    "fns = !ls ../results/ensembl_snps_79/A_vs_X/intergenic/directions/*/summary.txt\n",
    "summary = make_summary_table(fns, filter_func=just_single_positions, show_significant=True)\n",
    "summary = summary.getColumns([c for c in summary.Header if \"2\" not in c and \"3\" not in c and \"4\" not in c])\n",
    "summary.Title = \"Significant differences in neighbourhood effect between intergenic \"\\\n",
    "+\"autosomal and X-chromosomal point mutations. RE$_{max}(1)$ the largest RE from a first order test and \"\\\n",
    "+r\"Pos.$(1)$ is the corresponding position. Only mutations significant after correcting for the 15 \"\\\n",
    "+r\"different tests using the Holm-{\\v S}id{\\\"a}k procedure are shown.\"\n",
    "all_supp_tables.append(format_latex_table(summary, justify=\"ccc\", label=\"suptable:nbr:auto-xchrom\"))"
   ]
  },
  {
   "cell_type": "markdown",
   "metadata": {},
   "source": [
    "### Comparison of spectra for intergenic and intronic for Autosomal"
   ]
  },
  {
   "cell_type": "code",
   "execution_count": 27,
   "metadata": {
    "collapsed": false
   },
   "outputs": [],
   "source": [
    "from itertools import combinations\n",
    "\n",
    "is_sig = SequentialSidak(4)\n",
    "sig_comp_tables = {}\n",
    "\n",
    "comb = \"intergenic_vs_intron\"\n",
    "path = \"../results/ensembl_snps_79/A/%s/spectra_summary.txt\" % comb\n",
    "table = LoadTable(path, sep=\"\\t\")\n",
    "table = table.filtered(is_sig, columns=\"prob\")\n",
    "table = table.withNewColumn(\"Direction\", lambda x: format_direction(x), columns=\"direction\")\n",
    "table = table.withNewColumn(\"Group\", lambda x: list(set([\"intergenic\",\"intron\"]) & set(x.split(\"/\")))[0], columns=\"group\")\n",
    "table = table.filtered(lambda x: x == \"intergenic\", columns=\"Group\")\n",
    "table = table.getColumns([\"Direction\", \"ret\"])\n",
    "table = table.withNewHeader([\"ret\"], [\"RET\"])\n",
    "table.Title = \"Significant differences in mutation spectra between autosomal intergenic and \"\\\n",
    "+r\"intronic point mutations. Separate log-linear models were used for each starting base ($X$ in X$\\rightarrow$Y). \"\\\n",
    "+r\"RET is the RE term for that row mutation direction. Only RET from the intergenic group are shown. A positive (negative) \"\\\n",
    "+r\"RET indicates a excess (deficit) of that mutation in the intergenic group. All tests returned p-values that were below \"\\\n",
    "+r\"the limit of detection and thus were statistically significant after correcting for 4 tests using \"\\\n",
    "+r\"the Holm-{\\v S}id{\\\"a}k procedure.\"\n",
    "all_supp_tables.append(format_latex_table(table, justify=\"ccrr\", label=\"suptable:spectra:intergenic-intron\"))"
   ]
  },
  {
   "cell_type": "markdown",
   "metadata": {},
   "source": [
    "### Comparison of spectra for intergenic, between Auto and X-chrom"
   ]
  },
  {
   "cell_type": "code",
   "execution_count": 28,
   "metadata": {
    "collapsed": false
   },
   "outputs": [],
   "source": [
    "path = \"../results/ensembl_snps_79/A_vs_X/intergenic/spectra_summary.txt\"\n",
    "is_sig = SequentialSidak(4)\n",
    "table = LoadTable(path, sep=\"\\t\")\n",
    "table = table.filtered(is_sig, columns=\"prob\")\n",
    "table = table.withNewColumn(\"Chrom. Class\",\n",
    "                            lambda x: list(set([\"A\", \"X\"]) & set(x.split(\"/\")))[0], columns=\"group\")\n",
    "table = table.withNewColumn(\"Direction\", lambda x: format_direction(x), columns=\"direction\")\n",
    "table = table.filtered(lambda x: x == \"A\", columns=\"Chrom. Class\")\n",
    "table = table.getColumns([\"Direction\", \"ret\"])\n",
    "table = table.withNewHeader([\"ret\"], [\"RET\"])\n",
    "table.Title = \"Significant differences in spectra between autosomal and X-chromosomal intergenic \"\\\n",
    "+r\"point mutations. Separate log-linear models were used for each starting base ($X$ in X$\\rightarrow$Y). \"\\\n",
    "+r\"RET is the RE term for that row mutation direction. p-value is from the corresponding hypothesis test. \"\\\n",
    "+r\"Only RET from the autosomal group are shown. A positive (negative) \"\\\n",
    "+r\"RET indicates a excess (deficit) of that mutation in autosomes. All tests returned p-values that were $\\le 4.7e^{-9}$ \"\\\n",
    "+r\"and thus were statistically significant after correcting for 4 tests using the Holm-{\\v S}id{\\\"a}k procedure.\"\n",
    "all_supp_tables.append(format_latex_table(table, justify=\"ccrr\", label=\"suptable:spectra:autosome-xchrom:intergenic\"))"
   ]
  },
  {
   "cell_type": "markdown",
   "metadata": {},
   "source": [
    "### Comparison of spectra for intronic, between Auto and X-chrom"
   ]
  },
  {
   "cell_type": "code",
   "execution_count": 29,
   "metadata": {
    "collapsed": false
   },
   "outputs": [],
   "source": [
    "path = \"../results/ensembl_snps_79/A_vs_X/intron/spectra_summary.txt\"\n",
    "is_sig = SequentialSidak(4)\n",
    "table = LoadTable(path, sep=\"\\t\")\n",
    "table = table.filtered(is_sig, columns=\"prob\")\n",
    "table = table.withNewColumn(\"Chrom. Class\",\n",
    "                            lambda x: list(set([\"A\", \"X\"]) & set(x.split(\"/\")))[0], columns=\"group\")\n",
    "table = table.withNewColumn(\"Direction\", lambda x: format_direction(x), columns=\"direction\")\n",
    "table = table.filtered(lambda x: x == \"A\", columns=\"Chrom. Class\")\n",
    "table = table.getColumns([\"Direction\", \"ret\"])\n",
    "table = table.withNewHeader([\"ret\"], [\"RET\"])\n",
    "table.Title = \"Significant differences in spectra between autosomal and X-chromosomal intronic \"\\\n",
    "+r\"point mutations. Separate log-linear models were used for each starting base ($X$ in X$\\rightarrow$Y). \"\\\n",
    "+r\"RET is the RE term for that row mutation direction. p-value is from the corresponding hypothesis test. \"\\\n",
    "+r\"Only RET from the autosomal group are shown. A positive (negative) \"\\\n",
    "+r\"RET indicates a excess (deficit) of that mutation in autosomes. All tests returned p-values that were $\\le 8.6e^{-5}$ \"\\\n",
    "+r\"and thus were statistically significant after correcting for 4 tests using the Holm-{\\v S}id{\\\"a}k procedure.\"\n",
    "\n",
    "all_supp_tables.append(format_latex_table(table, justify=\"ccrr\", label=\"suptable:spectra:autosome-xchrom:intron\"))"
   ]
  },
  {
   "cell_type": "markdown",
   "metadata": {},
   "source": [
    "### Strand symmetry neighbour for malignant melanoma"
   ]
  },
  {
   "cell_type": "code",
   "execution_count": 30,
   "metadata": {
    "collapsed": false
   },
   "outputs": [],
   "source": [
    "fns = !ls ../results/ensembl_snps_79/malignant_melanoma/directions_strand_symmetric/*/*.txt\n",
    "summary = make_summary_table(fns)\n",
    "summary = summary.getColumns([c for c in summary.Header if \"4\" not in c])\n",
    "summary.Title = \"Test of strand symmetric neighbourhood influences on malignant melanoma point mutations. \"\\\n",
    "+r\"RE$_{max}(\\#)$ is the maximum RE for order \"\\\n",
    "+r\"\\# and Pos.$(\\#)$ the corresponding position(s). Only effects significant after \"\\\n",
    "+r\"correcting for the 15 different tests using the Holm-{\\v S}id{\\\"a}k procedure are shown. \"\\\n",
    "+r\"Non-significant results are indicated by `-'.\"\n",
    "all_supp_tables.append(format_latex_table(summary, justify=\"cccrrrr\", label=\"suptable:nbr:melanoma:summary\"))"
   ]
  },
  {
   "cell_type": "markdown",
   "metadata": {},
   "source": [
    "### Strand symmetry spectra for malignant melanoma"
   ]
  },
  {
   "cell_type": "code",
   "execution_count": 31,
   "metadata": {
    "collapsed": false
   },
   "outputs": [
    {
     "name": "stdout",
     "output_type": "stream",
     "text": [
      "\n"
     ]
    }
   ],
   "source": [
    "is_sig = SequentialSidak(4)\n",
    "table = LoadTable(\"../results/ensembl_snps_79/malignant_melanoma/combined_strand_symmetric/spectra_summary.txt\", sep=\"\\t\")\n",
    "table = table.filtered(is_sig, columns=\"prob\")\n",
    "if table.Shape[0] == 0:\n",
    "    print \"No significant differences in spectra between %s\" % seq_class\n",
    "print\n",
    "table = table.withNewColumn(\"Direction\", lambda x: format_direction(x), columns=\"direction\")\n",
    "table = table.filtered(lambda x: x == \"+\", columns=\"strand\")\n",
    "table = table.getColumns([\"Direction\", \"ret\", \"prob\"])\n",
    "table = table.withNewHeader([\"ret\", \"prob\"], [\"RET\", \"p-value\"])\n",
    "table.setColumnFormat(\"p-value\", format_pvalue)\n",
    "table.Title = \"Differences in spectra between strands for malignant melanoma point mutations. \"\\\n",
    "+r\"Separate log-linear models were used for the + strand starting bases A and C. \"\\\n",
    "+r\"RET is the RE term for that row mutation direction. \"\\\n",
    "+r\"Only RET from the + strand are shown. A positive (negative) \"\\\n",
    "+r\"RET indicates a excess (deficit) of that mutation on the + strand. p-value is from the corresponding hypothesis test. \"\\\n",
    "+r\"Only mutations from C were significant after correcting for 2 tests using the Holm-{\\v S}id{\\\"a}k procedure.\"\n",
    "all_supp_tables.append(format_latex_table(table.getColumns([\"Direction\", \"RET\", \"p-value\"]), justify=\"ccccrrr\",\n",
    "                         label=\"suptable:spectra:melanoma:symmetry\"))"
   ]
  },
  {
   "cell_type": "markdown",
   "metadata": {},
   "source": [
    "### Intronic autosomal mutation summary"
   ]
  },
  {
   "cell_type": "code",
   "execution_count": 32,
   "metadata": {
    "collapsed": false
   },
   "outputs": [],
   "source": [
    "fns = !ls ../results/ensembl_snps_79/A/intron/directions/*/*.txt\n",
    "fns = [fn for fn in fns if fn.split(\"/\")[-2] in MUTATION_COMPLEMENTS]\n",
    "summary = make_summary_table(fns)\n",
    "summary = summary.getColumns([c for c in summary.Header if \"4\" not in c])\n",
    "summary.Title = \"Neighbourhood influences on point mutations within autosomal introns. \"\\\n",
    "+r\"RE$_{max}(1)$ the largest RE from a first order test and \"\\\n",
    "+r\"Pos.$(1)$ is the corresponding position. Only mutations significant after correcting for the 15 \"\\\n",
    "+r\"different tests using the Holm-{\\v S}id{\\\"a}k procedure are shown.\"\n",
    "all_supp_tables.append(format_latex_table(summary, justify=\"crrrrrr\", label=\"suptable:nbr:auto-intron:summary\"))"
   ]
  },
  {
   "cell_type": "markdown",
   "metadata": {},
   "source": [
    "### Neighbour influence differences between germline exon and melanoma"
   ]
  },
  {
   "cell_type": "code",
   "execution_count": 33,
   "metadata": {
    "collapsed": false
   },
   "outputs": [],
   "source": [
    "fns = !ls ../results/ensembl_snps_79/Aexon_vs_Melanoma/directions/*/summary.txt\n",
    "summary = make_summary_table(fns, show_significant=False)\n",
    "summary.Title = \"Significant differences in the influence of neighbours on \"\\\n",
    "+r\"exonic point mutations between germline and malignant melanoma. \"\\\n",
    "+r\"RE$_{max}(1)$ the largest RE from a first order test and \"\\\n",
    "+r\"Pos.$(1)$ is the corresponding position. Only mutations significant after correcting for the 15 \"\\\n",
    "+r\"different tests using the Holm-{\\v S}id{\\\"a}k procedure are shown. Non-significant results are indicated by `-'.\"\n",
    "summary = summary.getColumns([c for c in summary.Header if \"4\" not in c])\n",
    "all_supp_tables.append(format_latex_table(summary, justify=\"crrrrrr\", label=\"suptable:nbr:exon-germline-melanoma:summary\"))"
   ]
  },
  {
   "cell_type": "markdown",
   "metadata": {},
   "source": [
    "### Spectra differences between germline exon and melanoma"
   ]
  },
  {
   "cell_type": "code",
   "execution_count": 34,
   "metadata": {
    "collapsed": false
   },
   "outputs": [
    {
     "name": "stdout",
     "output_type": "stream",
     "text": [
      "\n"
     ]
    }
   ],
   "source": [
    "table = LoadTable(\"../results/ensembl_snps_79/Aexon_vs_Melanoma/spectra_summary.txt\", sep=\"\\t\")\n",
    "is_sig = SequentialSidak(4)\n",
    "table = table.filtered(is_sig, columns=\"prob\")\n",
    "if table.Shape[0] == 0:\n",
    "    print \"No significant differences in spectra between germline exon and melanoma\"\n",
    "print\n",
    "table = table.withNewColumn(\"Direction\", lambda x: format_direction(x), columns=\"direction\")\n",
    "table = table.withNewColumn(\"Group\",\n",
    "                                lambda x: \"melanoma\" if \"malignant_melanoma\" in x else \"germline\", columns=\"group\")\n",
    "table = table.filtered(lambda x: x == \"melanoma\", columns=\"Group\")\n",
    "table = table.getColumns([\"Direction\", \"ret\"])\n",
    "table = table.withNewHeader([\"ret\"], [\"RET\"])\n",
    "table = table.getColumns([\"Direction\", \"RET\"])\n",
    "table.Title = \"Significant differences in spectra between germline exon and malignant melanoma \"\\\n",
    "+r\"point mutations. Separate log-linear models were used for each starting base ($X$ in X$\\rightarrow$Y). \"\\\n",
    "+r\"RET is the RE term for that row mutation direction. Only RET from the melanoma group are shown. A positive (negative) \"\\\n",
    "+r\"RET indicates a excess (deficit) of that mutation in the melanoma group. All tests returned p-values that were below \"\\\n",
    "+r\"the limit of detection and thus were statistically significant after correcting for 4 tests using \"\\\n",
    "+r\"the Holm-{\\v S}id{\\\"a}k procedure.\"\n",
    "all_supp_tables.append(format_latex_table(table, justify=\"ccrrr\", label=\"suptable:spectra:exon-germline-melanoma\"))"
   ]
  },
  {
   "cell_type": "code",
   "execution_count": 35,
   "metadata": {
    "collapsed": true
   },
   "outputs": [],
   "source": [
    "with open(\"../results/ensembl_snps_79/supp_materials_tables.tex\", \"w\") as out:\n",
    "    out.write(\"\\n\\n\".join(all_supp_tables))"
   ]
  },
  {
   "cell_type": "code",
   "execution_count": null,
   "metadata": {
    "collapsed": true
   },
   "outputs": [],
   "source": []
  }
 ],
 "metadata": {
  "kernelspec": {
   "display_name": "Python 2",
   "language": "python",
   "name": "python2"
  },
  "language_info": {
   "codemirror_mode": {
    "name": "ipython",
    "version": 2
   },
   "file_extension": ".py",
   "mimetype": "text/x-python",
   "name": "python",
   "nbconvert_exporter": "python",
   "pygments_lexer": "ipython2",
   "version": "2.7.10"
  }
 },
 "nbformat": 4,
 "nbformat_minor": 0
}
